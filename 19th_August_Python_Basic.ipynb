{
 "cells": [
  {
   "cell_type": "code",
   "execution_count": 1,
   "id": "b1025051-5852-4d1b-96ac-a85f3ce57deb",
   "metadata": {},
   "outputs": [
    {
     "name": "stdout",
     "output_type": "stream",
     "text": [
      "value of x and y before swaping is: 15 20\n",
      "value of x and y after swaping is: 20 15\n"
     ]
    }
   ],
   "source": [
    "#Basic variable Q1\n",
    "x=15\n",
    "y=20\n",
    "print(\"value of x and y before swaping is:\",x,y)\n",
    "x,y=y,x\n",
    "print(\"value of x and y after swaping is:\",x,y)"
   ]
  },
  {
   "cell_type": "code",
   "execution_count": 2,
   "id": "2f5c54ab-e714-4453-a7b4-ae7d0c2cb6bc",
   "metadata": {},
   "outputs": [
    {
     "name": "stdin",
     "output_type": "stream",
     "text": [
      "Enter length of rectangle 18\n",
      "Enter width of rectangle 12\n"
     ]
    },
    {
     "name": "stdout",
     "output_type": "stream",
     "text": [
      "Area of rectangle is: 216\n"
     ]
    }
   ],
   "source": [
    "#Basic variable Q2\n",
    "l=int(input(\"Enter length of rectangle\"))\n",
    "b=int(input(\"Enter width of rectangle\"))\n",
    "a=l*b\n",
    "print(\"Area of rectangle is:\",a)"
   ]
  },
  {
   "cell_type": "code",
   "execution_count": 4,
   "id": "b4eaeadf-6700-40ba-acd7-d43eaa21d505",
   "metadata": {},
   "outputs": [
    {
     "name": "stdin",
     "output_type": "stream",
     "text": [
      "Enter Temperature in Celsius 23\n"
     ]
    },
    {
     "name": "stdout",
     "output_type": "stream",
     "text": [
      "Temperature in Fahrenheit is: 73.4\n"
     ]
    }
   ],
   "source": [
    "#Basic variable Q3\n",
    "tc=float(input(\"Enter Temperature in Celsius\"))\n",
    "tf = tc*1.8+32\n",
    "print(\"Temperature in Fahrenheit is:\",tf)"
   ]
  },
  {
   "cell_type": "code",
   "execution_count": 5,
   "id": "52ae3957-12ec-4796-8fb3-4c20e5c2eba1",
   "metadata": {},
   "outputs": [
    {
     "name": "stdin",
     "output_type": "stream",
     "text": [
      "Enter a string pwskill\n"
     ]
    },
    {
     "name": "stdout",
     "output_type": "stream",
     "text": [
      "Length of string is: 7\n"
     ]
    }
   ],
   "source": [
    "#String Question 1\n",
    "str2=input(\"Enter a string\")\n",
    "print(\"Length of string is:\",len(str2))"
   ]
  },
  {
   "cell_type": "code",
   "execution_count": null,
   "id": "edc99d8f-921f-47fe-8a80-f734647e572b",
   "metadata": {},
   "outputs": [],
   "source": [
    "#String Question2\n",
    "str1=input(\"Enter a string\")\n",
    "print(\"Count of vowel a is\",str1.count('a')+str1.count('A'))\n",
    "print(\"Count of vowel e is:\",str1.count('e')+str1.count('E'))\n",
    "print(\"Count of vowel i is:\",str1.count('i')+str1.count('I'))\n",
    "print(\"Count of vowel o is:\", str1.count('o')+str1.count('O'))\n",
    "print(\"Count of vowel u is:\", str1.count('u')+str1.count('U'))"
   ]
  },
  {
   "cell_type": "code",
   "execution_count": null,
   "id": "6a9979af-c8be-419b-8e92-a17c93e437e2",
   "metadata": {},
   "outputs": [],
   "source": [
    "#String Question 3\n",
    "str3=input(\"Enter a string\")\n",
    "print(\"The reversed string is:\", str3[::-1])"
   ]
  },
  {
   "cell_type": "code",
   "execution_count": null,
   "id": "f08a5ef3-788e-4172-858d-7f60f7314efb",
   "metadata": {},
   "outputs": [],
   "source": [
    "#String Question 4\n",
    "str4=input(\"Enter a string\")  \n",
    "if(str4==str4[::-1]):\n",
    "    print(\"Entered string is Palindrome\")\n",
    "else:\n",
    "    print(\"Entered string is not Palindrome\")"
   ]
  },
  {
   "cell_type": "code",
   "execution_count": null,
   "id": "30909f92-9d67-4868-a216-3e1224f0898d",
   "metadata": {},
   "outputs": [],
   "source": [
    "#String Question 5\n",
    "str5=input(\"Enter a string\")\n",
    "print(\"String without space :\",str5.replace(' ',''))"
   ]
  }
 ],
 "metadata": {
  "kernelspec": {
   "display_name": "Python 3 (ipykernel)",
   "language": "python",
   "name": "python3"
  },
  "language_info": {
   "codemirror_mode": {
    "name": "ipython",
    "version": 3
   },
   "file_extension": ".py",
   "mimetype": "text/x-python",
   "name": "python",
   "nbconvert_exporter": "python",
   "pygments_lexer": "ipython3",
   "version": "3.10.8"
  }
 },
 "nbformat": 4,
 "nbformat_minor": 5
}
